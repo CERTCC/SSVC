{
 "cells": [
  {
   "cell_type": "code",
   "execution_count": 1,
   "id": "initial_id",
   "metadata": {
    "ExecuteTime": {
     "end_time": "2025-03-21T13:31:21.532792Z",
     "start_time": "2025-03-21T13:31:21.520299Z"
    }
   },
   "outputs": [
    {
     "name": "stderr",
     "output_type": "stream",
     "text": [
      "Duplicate decision point (<NameSpace.SSVC: 'ssvc'>, 'Report Public', 'RP', '1.0.0')\n",
      "Duplicate decision point (<NameSpace.SSVC: 'ssvc'>, 'Supplier Contacted', 'SC', '1.0.0')\n",
      "Duplicate decision point (<NameSpace.SSVC: 'ssvc'>, 'Report Credibility', 'RC', '1.0.0')\n",
      "Duplicate decision point (<NameSpace.SSVC: 'ssvc'>, 'Supplier Cardinality', 'SC', '1.0.0')\n",
      "Duplicate decision point (<NameSpace.SSVC: 'ssvc'>, 'Supplier Engagement', 'SE', '1.0.0')\n",
      "Duplicate decision point (<NameSpace.SSVC: 'ssvc'>, 'Utility', 'U', '1.0.1')\n",
      "Duplicate decision point (<NameSpace.SSVC: 'ssvc'>, 'Automatable', 'A', '2.0.0')\n",
      "Duplicate decision point (<NameSpace.SSVC: 'ssvc'>, 'Value Density', 'VD', '1.0.0')\n",
      "Duplicate decision point (<NameSpace.SSVC: 'ssvc'>, 'Public Safety Impact', 'PSI', '2.0.0')\n",
      "Duplicate decision point (<NameSpace.SSVC: 'ssvc'>, 'Safety Impact', 'SI', '1.0.0')\n"
     ]
    }
   ],
   "source": [
    "from ssvc.dp_groups.ssvc.coordinator_triage import COORDINATOR_TRIAGE_1 as dpg"
   ]
  },
  {
   "cell_type": "code",
   "execution_count": 2,
   "id": "72c7764cb46593cc",
   "metadata": {
    "ExecuteTime": {
     "end_time": "2025-03-21T13:33:19.287836Z",
     "start_time": "2025-03-21T13:33:19.284542Z"
    }
   },
   "outputs": [
    {
     "name": "stdout",
     "output_type": "stream",
     "text": [
      "0 (ValueSummary(namespace='ssvc', key='RP', version='1.0.0', value='Y'), ValueSummary(namespace='ssvc', key='SC', version='1.0.0', value='N'), ValueSummary(namespace='ssvc', key='RC', version='1.0.0', value='NC'), ValueSummary(namespace='ssvc', key='SC', version='1.0.0', value='O'), ValueSummary(namespace='ssvc', key='SE', version='1.0.0', value='A'), ValueSummary(namespace='ssvc', key='U', version='1.0.1', value='L'), ValueSummary(namespace='ssvc', key='A', version='2.0.0', value='N'), ValueSummary(namespace='ssvc', key='VD', version='1.0.0', value='D'), ValueSummary(namespace='ssvc', key='PSI', version='2.0.0', value='M'), ValueSummary(namespace='ssvc', key='SI', version='1.0.0', value='N'))\n",
      "1 (ValueSummary(namespace='ssvc', key='RP', version='1.0.0', value='Y'), ValueSummary(namespace='ssvc', key='SC', version='1.0.0', value='N'), ValueSummary(namespace='ssvc', key='RC', version='1.0.0', value='NC'), ValueSummary(namespace='ssvc', key='SC', version='1.0.0', value='O'), ValueSummary(namespace='ssvc', key='SE', version='1.0.0', value='A'), ValueSummary(namespace='ssvc', key='U', version='1.0.1', value='L'), ValueSummary(namespace='ssvc', key='A', version='2.0.0', value='N'), ValueSummary(namespace='ssvc', key='VD', version='1.0.0', value='D'), ValueSummary(namespace='ssvc', key='PSI', version='2.0.0', value='M'), ValueSummary(namespace='ssvc', key='SI', version='1.0.0', value='M'))\n",
      "2 (ValueSummary(namespace='ssvc', key='RP', version='1.0.0', value='Y'), ValueSummary(namespace='ssvc', key='SC', version='1.0.0', value='N'), ValueSummary(namespace='ssvc', key='RC', version='1.0.0', value='NC'), ValueSummary(namespace='ssvc', key='SC', version='1.0.0', value='O'), ValueSummary(namespace='ssvc', key='SE', version='1.0.0', value='A'), ValueSummary(namespace='ssvc', key='U', version='1.0.1', value='L'), ValueSummary(namespace='ssvc', key='A', version='2.0.0', value='N'), ValueSummary(namespace='ssvc', key='VD', version='1.0.0', value='D'), ValueSummary(namespace='ssvc', key='PSI', version='2.0.0', value='M'), ValueSummary(namespace='ssvc', key='SI', version='1.0.0', value='J'))\n",
      "3 (ValueSummary(namespace='ssvc', key='RP', version='1.0.0', value='Y'), ValueSummary(namespace='ssvc', key='SC', version='1.0.0', value='N'), ValueSummary(namespace='ssvc', key='RC', version='1.0.0', value='NC'), ValueSummary(namespace='ssvc', key='SC', version='1.0.0', value='O'), ValueSummary(namespace='ssvc', key='SE', version='1.0.0', value='A'), ValueSummary(namespace='ssvc', key='U', version='1.0.1', value='L'), ValueSummary(namespace='ssvc', key='A', version='2.0.0', value='N'), ValueSummary(namespace='ssvc', key='VD', version='1.0.0', value='D'), ValueSummary(namespace='ssvc', key='PSI', version='2.0.0', value='M'), ValueSummary(namespace='ssvc', key='SI', version='1.0.0', value='H'))\n",
      "4 (ValueSummary(namespace='ssvc', key='RP', version='1.0.0', value='Y'), ValueSummary(namespace='ssvc', key='SC', version='1.0.0', value='N'), ValueSummary(namespace='ssvc', key='RC', version='1.0.0', value='NC'), ValueSummary(namespace='ssvc', key='SC', version='1.0.0', value='O'), ValueSummary(namespace='ssvc', key='SE', version='1.0.0', value='A'), ValueSummary(namespace='ssvc', key='U', version='1.0.1', value='L'), ValueSummary(namespace='ssvc', key='A', version='2.0.0', value='N'), ValueSummary(namespace='ssvc', key='VD', version='1.0.0', value='D'), ValueSummary(namespace='ssvc', key='PSI', version='2.0.0', value='M'), ValueSummary(namespace='ssvc', key='SI', version='1.0.0', value='C'))\n",
      "5 (ValueSummary(namespace='ssvc', key='RP', version='1.0.0', value='Y'), ValueSummary(namespace='ssvc', key='SC', version='1.0.0', value='N'), ValueSummary(namespace='ssvc', key='RC', version='1.0.0', value='NC'), ValueSummary(namespace='ssvc', key='SC', version='1.0.0', value='O'), ValueSummary(namespace='ssvc', key='SE', version='1.0.0', value='A'), ValueSummary(namespace='ssvc', key='U', version='1.0.1', value='L'), ValueSummary(namespace='ssvc', key='A', version='2.0.0', value='N'), ValueSummary(namespace='ssvc', key='VD', version='1.0.0', value='D'), ValueSummary(namespace='ssvc', key='PSI', version='2.0.0', value='S'), ValueSummary(namespace='ssvc', key='SI', version='1.0.0', value='N'))\n",
      "6 (ValueSummary(namespace='ssvc', key='RP', version='1.0.0', value='Y'), ValueSummary(namespace='ssvc', key='SC', version='1.0.0', value='N'), ValueSummary(namespace='ssvc', key='RC', version='1.0.0', value='NC'), ValueSummary(namespace='ssvc', key='SC', version='1.0.0', value='O'), ValueSummary(namespace='ssvc', key='SE', version='1.0.0', value='A'), ValueSummary(namespace='ssvc', key='U', version='1.0.1', value='L'), ValueSummary(namespace='ssvc', key='A', version='2.0.0', value='N'), ValueSummary(namespace='ssvc', key='VD', version='1.0.0', value='D'), ValueSummary(namespace='ssvc', key='PSI', version='2.0.0', value='S'), ValueSummary(namespace='ssvc', key='SI', version='1.0.0', value='M'))\n"
     ]
    }
   ],
   "source": [
    "for i,c in enumerate(dpg.combination_summaries()):\n",
    "    print(i,c)\n",
    "    if i>5:\n",
    "        break"
   ]
  },
  {
   "cell_type": "code",
   "execution_count": 3,
   "id": "f04f44540b0c9c2b",
   "metadata": {},
   "outputs": [
    {
     "name": "stdout",
     "output_type": "stream",
     "text": [
      "0 ('ssvc:RP:1.0.0:Y', 'ssvc:SC:1.0.0:N', 'ssvc:RC:1.0.0:NC', 'ssvc:SC:1.0.0:O', 'ssvc:SE:1.0.0:A', 'ssvc:U:1.0.1:L', 'ssvc:A:2.0.0:N', 'ssvc:VD:1.0.0:D', 'ssvc:PSI:2.0.0:M', 'ssvc:SI:1.0.0:N')\n",
      "1 ('ssvc:RP:1.0.0:Y', 'ssvc:SC:1.0.0:N', 'ssvc:RC:1.0.0:NC', 'ssvc:SC:1.0.0:O', 'ssvc:SE:1.0.0:A', 'ssvc:U:1.0.1:L', 'ssvc:A:2.0.0:N', 'ssvc:VD:1.0.0:D', 'ssvc:PSI:2.0.0:M', 'ssvc:SI:1.0.0:M')\n",
      "2 ('ssvc:RP:1.0.0:Y', 'ssvc:SC:1.0.0:N', 'ssvc:RC:1.0.0:NC', 'ssvc:SC:1.0.0:O', 'ssvc:SE:1.0.0:A', 'ssvc:U:1.0.1:L', 'ssvc:A:2.0.0:N', 'ssvc:VD:1.0.0:D', 'ssvc:PSI:2.0.0:M', 'ssvc:SI:1.0.0:J')\n",
      "3 ('ssvc:RP:1.0.0:Y', 'ssvc:SC:1.0.0:N', 'ssvc:RC:1.0.0:NC', 'ssvc:SC:1.0.0:O', 'ssvc:SE:1.0.0:A', 'ssvc:U:1.0.1:L', 'ssvc:A:2.0.0:N', 'ssvc:VD:1.0.0:D', 'ssvc:PSI:2.0.0:M', 'ssvc:SI:1.0.0:H')\n",
      "4 ('ssvc:RP:1.0.0:Y', 'ssvc:SC:1.0.0:N', 'ssvc:RC:1.0.0:NC', 'ssvc:SC:1.0.0:O', 'ssvc:SE:1.0.0:A', 'ssvc:U:1.0.1:L', 'ssvc:A:2.0.0:N', 'ssvc:VD:1.0.0:D', 'ssvc:PSI:2.0.0:M', 'ssvc:SI:1.0.0:C')\n",
      "5 ('ssvc:RP:1.0.0:Y', 'ssvc:SC:1.0.0:N', 'ssvc:RC:1.0.0:NC', 'ssvc:SC:1.0.0:O', 'ssvc:SE:1.0.0:A', 'ssvc:U:1.0.1:L', 'ssvc:A:2.0.0:N', 'ssvc:VD:1.0.0:D', 'ssvc:PSI:2.0.0:S', 'ssvc:SI:1.0.0:N')\n",
      "6 ('ssvc:RP:1.0.0:Y', 'ssvc:SC:1.0.0:N', 'ssvc:RC:1.0.0:NC', 'ssvc:SC:1.0.0:O', 'ssvc:SE:1.0.0:A', 'ssvc:U:1.0.1:L', 'ssvc:A:2.0.0:N', 'ssvc:VD:1.0.0:D', 'ssvc:PSI:2.0.0:S', 'ssvc:SI:1.0.0:M')\n"
     ]
    }
   ],
   "source": [
    "for i,s in enumerate(dpg.combination_strings()):\n",
    "    print(i,s)\n",
    "    if i > 5:\n",
    "        break"
   ]
  },
  {
   "cell_type": "code",
   "execution_count": 4,
   "id": "635de87b-52a2-4c5e-9a90-5581448cb28e",
   "metadata": {},
   "outputs": [
    {
     "name": "stdout",
     "output_type": "stream",
     "text": [
      "0 ({'namespace': 'ssvc', 'key': 'RP', 'version': '1.0.0', 'value': 'Y'}, {'namespace': 'ssvc', 'key': 'SC', 'version': '1.0.0', 'value': 'N'}, {'namespace': 'ssvc', 'key': 'RC', 'version': '1.0.0', 'value': 'NC'}, {'namespace': 'ssvc', 'key': 'SC', 'version': '1.0.0', 'value': 'O'}, {'namespace': 'ssvc', 'key': 'SE', 'version': '1.0.0', 'value': 'A'}, {'namespace': 'ssvc', 'key': 'U', 'version': '1.0.1', 'value': 'L'}, {'namespace': 'ssvc', 'key': 'A', 'version': '2.0.0', 'value': 'N'}, {'namespace': 'ssvc', 'key': 'VD', 'version': '1.0.0', 'value': 'D'}, {'namespace': 'ssvc', 'key': 'PSI', 'version': '2.0.0', 'value': 'M'}, {'namespace': 'ssvc', 'key': 'SI', 'version': '1.0.0', 'value': 'N'})\n",
      "\n",
      "\n",
      "1 ({'namespace': 'ssvc', 'key': 'RP', 'version': '1.0.0', 'value': 'Y'}, {'namespace': 'ssvc', 'key': 'SC', 'version': '1.0.0', 'value': 'N'}, {'namespace': 'ssvc', 'key': 'RC', 'version': '1.0.0', 'value': 'NC'}, {'namespace': 'ssvc', 'key': 'SC', 'version': '1.0.0', 'value': 'O'}, {'namespace': 'ssvc', 'key': 'SE', 'version': '1.0.0', 'value': 'A'}, {'namespace': 'ssvc', 'key': 'U', 'version': '1.0.1', 'value': 'L'}, {'namespace': 'ssvc', 'key': 'A', 'version': '2.0.0', 'value': 'N'}, {'namespace': 'ssvc', 'key': 'VD', 'version': '1.0.0', 'value': 'D'}, {'namespace': 'ssvc', 'key': 'PSI', 'version': '2.0.0', 'value': 'M'}, {'namespace': 'ssvc', 'key': 'SI', 'version': '1.0.0', 'value': 'M'})\n",
      "\n",
      "\n",
      "2 ({'namespace': 'ssvc', 'key': 'RP', 'version': '1.0.0', 'value': 'Y'}, {'namespace': 'ssvc', 'key': 'SC', 'version': '1.0.0', 'value': 'N'}, {'namespace': 'ssvc', 'key': 'RC', 'version': '1.0.0', 'value': 'NC'}, {'namespace': 'ssvc', 'key': 'SC', 'version': '1.0.0', 'value': 'O'}, {'namespace': 'ssvc', 'key': 'SE', 'version': '1.0.0', 'value': 'A'}, {'namespace': 'ssvc', 'key': 'U', 'version': '1.0.1', 'value': 'L'}, {'namespace': 'ssvc', 'key': 'A', 'version': '2.0.0', 'value': 'N'}, {'namespace': 'ssvc', 'key': 'VD', 'version': '1.0.0', 'value': 'D'}, {'namespace': 'ssvc', 'key': 'PSI', 'version': '2.0.0', 'value': 'M'}, {'namespace': 'ssvc', 'key': 'SI', 'version': '1.0.0', 'value': 'J'})\n",
      "\n",
      "\n",
      "3 ({'namespace': 'ssvc', 'key': 'RP', 'version': '1.0.0', 'value': 'Y'}, {'namespace': 'ssvc', 'key': 'SC', 'version': '1.0.0', 'value': 'N'}, {'namespace': 'ssvc', 'key': 'RC', 'version': '1.0.0', 'value': 'NC'}, {'namespace': 'ssvc', 'key': 'SC', 'version': '1.0.0', 'value': 'O'}, {'namespace': 'ssvc', 'key': 'SE', 'version': '1.0.0', 'value': 'A'}, {'namespace': 'ssvc', 'key': 'U', 'version': '1.0.1', 'value': 'L'}, {'namespace': 'ssvc', 'key': 'A', 'version': '2.0.0', 'value': 'N'}, {'namespace': 'ssvc', 'key': 'VD', 'version': '1.0.0', 'value': 'D'}, {'namespace': 'ssvc', 'key': 'PSI', 'version': '2.0.0', 'value': 'M'}, {'namespace': 'ssvc', 'key': 'SI', 'version': '1.0.0', 'value': 'H'})\n",
      "\n",
      "\n",
      "4 ({'namespace': 'ssvc', 'key': 'RP', 'version': '1.0.0', 'value': 'Y'}, {'namespace': 'ssvc', 'key': 'SC', 'version': '1.0.0', 'value': 'N'}, {'namespace': 'ssvc', 'key': 'RC', 'version': '1.0.0', 'value': 'NC'}, {'namespace': 'ssvc', 'key': 'SC', 'version': '1.0.0', 'value': 'O'}, {'namespace': 'ssvc', 'key': 'SE', 'version': '1.0.0', 'value': 'A'}, {'namespace': 'ssvc', 'key': 'U', 'version': '1.0.1', 'value': 'L'}, {'namespace': 'ssvc', 'key': 'A', 'version': '2.0.0', 'value': 'N'}, {'namespace': 'ssvc', 'key': 'VD', 'version': '1.0.0', 'value': 'D'}, {'namespace': 'ssvc', 'key': 'PSI', 'version': '2.0.0', 'value': 'M'}, {'namespace': 'ssvc', 'key': 'SI', 'version': '1.0.0', 'value': 'C'})\n",
      "\n",
      "\n",
      "5 ({'namespace': 'ssvc', 'key': 'RP', 'version': '1.0.0', 'value': 'Y'}, {'namespace': 'ssvc', 'key': 'SC', 'version': '1.0.0', 'value': 'N'}, {'namespace': 'ssvc', 'key': 'RC', 'version': '1.0.0', 'value': 'NC'}, {'namespace': 'ssvc', 'key': 'SC', 'version': '1.0.0', 'value': 'O'}, {'namespace': 'ssvc', 'key': 'SE', 'version': '1.0.0', 'value': 'A'}, {'namespace': 'ssvc', 'key': 'U', 'version': '1.0.1', 'value': 'L'}, {'namespace': 'ssvc', 'key': 'A', 'version': '2.0.0', 'value': 'N'}, {'namespace': 'ssvc', 'key': 'VD', 'version': '1.0.0', 'value': 'D'}, {'namespace': 'ssvc', 'key': 'PSI', 'version': '2.0.0', 'value': 'S'}, {'namespace': 'ssvc', 'key': 'SI', 'version': '1.0.0', 'value': 'N'})\n",
      "\n",
      "\n"
     ]
    }
   ],
   "source": [
    "for i,t in enumerate(dpg.combination_dicts()):\n",
    "    if i>5:\n",
    "        break\n",
    "    print(i,t)\n",
    "    print()\n",
    "    print()\n",
    "    "
   ]
  },
  {
   "cell_type": "code",
   "execution_count": null,
   "id": "129afda1-f243-4b09-a0e3-8d9a8c8a9baa",
   "metadata": {},
   "outputs": [],
   "source": []
  }
 ],
 "metadata": {
  "kernelspec": {
   "display_name": "Python 3 (ipykernel)",
   "language": "python",
   "name": "python3"
  },
  "language_info": {
   "codemirror_mode": {
    "name": "ipython",
    "version": 3
   },
   "file_extension": ".py",
   "mimetype": "text/x-python",
   "name": "python",
   "nbconvert_exporter": "python",
   "pygments_lexer": "ipython3",
   "version": "3.12.4"
  }
 },
 "nbformat": 4,
 "nbformat_minor": 5
}
